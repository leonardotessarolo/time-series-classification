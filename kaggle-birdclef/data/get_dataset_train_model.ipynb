{
 "metadata": {
  "language_info": {
   "codemirror_mode": {
    "name": "ipython",
    "version": 3
   },
   "file_extension": ".py",
   "mimetype": "text/x-python",
   "name": "python",
   "nbconvert_exporter": "python",
   "pygments_lexer": "ipython3",
   "version": "3.8.5"
  },
  "orig_nbformat": 2,
  "kernelspec": {
   "name": "python37564bitpy3env9ce34406d43f4af586f951592c5adb6f",
   "display_name": "Python 3.8.5  ('py3env': venv)"
  },
  "metadata": {
   "interpreter": {
    "hash": "c459602caf4450a41cbc9c4c2066c8ee88e72ae4ef48d307d9bc8c7ad34c47fd"
   }
  }
 },
 "nbformat": 4,
 "nbformat_minor": 2,
 "cells": [
  {
   "cell_type": "code",
   "execution_count": 1,
   "metadata": {},
   "outputs": [],
   "source": [
    "import numpy as np # linear algebra\n",
    "import pandas as pd # data processing, CSV file I/O (e.g. pd.read_csv)\n",
    "import soundfile as sf\n",
    "import seaborn as sns\n",
    "\n",
    "import os\n",
    "from tensorflow import keras\n",
    "from sklearn.ensemble import RandomForestRegressor\n",
    "from sklearn.model_selection import train_test_split\n",
    "from scipy.fft import fft\n",
    "from functools import partial\n",
    "import multiprocessing\n",
    "from sklearn.preprocessing import normalize\n",
    "from sklearn.preprocessing import LabelEncoder\n",
    "from tensorflow.keras.utils import to_categorical\n",
    "import shap\n",
    "import glob\n",
    "from pathlib import Path"
   ]
  },
  {
   "cell_type": "code",
   "execution_count": 2,
   "metadata": {},
   "outputs": [],
   "source": [
    "TRAIN_FILES_DIR='./train_short_audio/'\n",
    "NJOBS=10\n",
    "FS=32000"
   ]
  },
  {
   "cell_type": "code",
   "execution_count": 3,
   "metadata": {
    "tags": []
   },
   "outputs": [],
   "source": [
    "def get_audio_files():\n",
    "    return [str(path) for path in Path(TRAIN_FILES_DIR).rglob('*.ogg')]\n"
   ]
  },
  {
   "cell_type": "code",
   "execution_count": 15,
   "metadata": {},
   "outputs": [],
   "source": [
    "def run_fft_onesig(N, signal, label):\n",
    "    i = N\n",
    "    bins_columns = [('bin_'+str(i)) for i in range(0,N//2)]\n",
    "    list_i = list()\n",
    "    \n",
    "    while i < len(signal):\n",
    "        list_i.append(i)\n",
    "        i+=N\n",
    "\n",
    "    df_sig = pd.DataFrame()\n",
    "    for i in list_i:\n",
    "        array_fft = np.abs(\n",
    "            fft(signal[i-N:i])\n",
    "        )[:N//2]\n",
    "        \n",
    "        df_temp = pd.DataFrame(\n",
    "            index = [i],\n",
    "            data = dict(\n",
    "                zip(bins_columns, array_fft)\n",
    "            )\n",
    "        )\n",
    "        df_temp['partition'] = '{}_{}'.format(i-N,i-1)\n",
    "        df_sig = df_sig.append(df_temp)\n",
    "    df_sig['bird'] = label\n",
    "\n",
    "    return df_sig.reset_index(drop=True)\n",
    "\n",
    "\n",
    "def run_fft(N, filepaths):\n",
    "    \n",
    "    data_fft = pd.DataFrame()\n",
    "    # for direc in train_dirs:\n",
    "    # train_files = glob.glob(direc+'/*')\n",
    "    # bird_spec = direc.split('/')[-1]\n",
    "    for audio_f in filepaths:\n",
    "        bird_spec = audio_f.split('/')[-2]\n",
    "        audio_sig, _ = sf.read(audio_f)\n",
    "        # import pdb;pdb.set_trace()\n",
    "        if N>len(audio_sig):\n",
    "            break\n",
    "        \n",
    "        df_sig = run_fft_onesig(\n",
    "            N=N,\n",
    "            signal=audio_sig,\n",
    "            label=bird_spec\n",
    "        )\n",
    "        df_sig['filename']=audio_f.split('/')[-1]\n",
    "\n",
    "        data_fft = data_fft.append(df_sig)\n",
    "            \n",
    "    data_fft = data_fft.reset_index(drop=True)\n",
    "    return data_fft\n",
    "\n",
    "def get_dataset(N, train_files):\n",
    "    \n",
    "    exec_fn = partial(run_fft, N)\n",
    "    files_splits = np.array_split(ary=train_files,indices_or_sections=NJOBS)\n",
    "    pool = multiprocessing.Pool(NJOBS)\n",
    "    results = pool.map(exec_fn, files_splits)\n",
    "    \n",
    "    dataset = pd.DataFrame()\n",
    "    for df_bird in results:\n",
    "        dataset = dataset.append(df_bird)\n",
    "    \n",
    "    return dataset.reset_index(drop=True)"
   ]
  },
  {
   "cell_type": "code",
   "execution_count": 14,
   "metadata": {},
   "outputs": [
    {
     "output_type": "stream",
     "name": "stdout",
     "text": [
      "CPU times: user 6.7 s, sys: 380 ms, total: 7.08 s\nWall time: 48.7 s\n"
     ]
    }
   ],
   "source": [
    "%%time\n",
    "CALCULATE=True\n",
    "FFT_SIZE=2048\n",
    "SAVE_PATH='fft_features_{}.csv'.format(FFT_SIZE)\n",
    "\n",
    "if CALCULATE:\n",
    "    df = get_dataset(\n",
    "        N=FFT_SIZE,\n",
    "        train_files=get_audio_files()\n",
    "    )\n",
    "    df.to_csv(SAVE_PATH, index=False)\n",
    "else:\n",
    "    df = pd.read_csv(SAVE_PATH)\n"
   ]
  },
  {
   "cell_type": "code",
   "execution_count": 11,
   "metadata": {},
   "outputs": [
    {
     "output_type": "execute_result",
     "data": {
      "text/plain": [
       "          bin_0     bin_1     bin_2     bin_3     bin_4     bin_5     bin_6  \\\n",
       "0      0.109109  0.104525  0.090810  0.067982  0.043354  0.036528  0.059847   \n",
       "1      0.032139  0.120178  0.163079  0.065829  0.286840  0.099731  0.070909   \n",
       "2      0.011692  0.031680  0.058241  0.010519  0.318981  0.031242  0.081802   \n",
       "3      0.084990  0.124008  0.148006  0.070163  0.167342  0.048375  0.079276   \n",
       "4      0.031638  0.060009  0.198577  0.089389  0.312165  0.061294  0.062317   \n",
       "...         ...       ...       ...       ...       ...       ...       ...   \n",
       "13911  0.009594  0.009572  0.009554  0.009555  0.009493  0.009414  0.009550   \n",
       "13912  0.008446  0.008454  0.008464  0.008479  0.008514  0.008465  0.009185   \n",
       "13913  0.000873  0.000869  0.000866  0.000870  0.000867  0.000839  0.000741   \n",
       "13914  0.001317  0.001320  0.001327  0.001332  0.001341  0.001399  0.001379   \n",
       "13915  0.000388  0.000387  0.000389  0.000398  0.000409  0.000412  0.000393   \n",
       "\n",
       "          bin_7     bin_8     bin_9  ...  bin_1017  bin_1018  bin_1019  \\\n",
       "0      0.083071  0.090390  0.073011  ...  0.010870  0.012636  0.005364   \n",
       "1      0.057269  0.104555  0.059639  ...  0.001202  0.015968  0.019710   \n",
       "2      0.128852  0.053376  0.064341  ...  0.018336  0.020024  0.008126   \n",
       "3      0.091263  0.054477  0.084815  ...  0.002002  0.005793  0.002173   \n",
       "4      0.020651  0.124128  0.061435  ...  0.022278  0.039680  0.008317   \n",
       "...         ...       ...       ...  ...       ...       ...       ...   \n",
       "13911  0.009250  0.008539  0.008980  ...  0.001476  0.000754  0.001108   \n",
       "13912  0.010342  0.009518  0.008650  ...  0.002326  0.000963  0.001815   \n",
       "13913  0.001582  0.002086  0.001198  ...  0.001241  0.001416  0.000398   \n",
       "13914  0.002095  0.000515  0.002210  ...  0.001462  0.002288  0.001505   \n",
       "13915  0.000323  0.000292  0.000337  ...  0.000953  0.000413  0.002407   \n",
       "\n",
       "       bin_1020  bin_1021  bin_1022  bin_1023        partition    bird  \\\n",
       "0      0.003192  0.001908  0.001179  0.000577           0_2047  grnjay   \n",
       "1      0.019694  0.013142  0.011388  0.021091        2048_4095  grnjay   \n",
       "2      0.026105  0.024679  0.044281  0.008388        4096_6143  grnjay   \n",
       "3      0.010228  0.017924  0.024366  0.026924        6144_8191  grnjay   \n",
       "4      0.009546  0.022766  0.010771  0.006605       8192_10239  grnjay   \n",
       "...         ...       ...       ...       ...              ...     ...   \n",
       "13911  0.001678  0.003120  0.001137  0.001968  1042432_1044479  grnjay   \n",
       "13912  0.003255  0.000207  0.000745  0.002223  1044480_1046527  grnjay   \n",
       "13913  0.001793  0.002299  0.001175  0.002281  1046528_1048575  grnjay   \n",
       "13914  0.001784  0.001004  0.001296  0.002625  1048576_1050623  grnjay   \n",
       "13915  0.001173  0.001150  0.001168  0.000909  1050624_1052671  grnjay   \n",
       "\n",
       "           filename  \n",
       "0      XC130154.ogg  \n",
       "1      XC130154.ogg  \n",
       "2      XC130154.ogg  \n",
       "3      XC130154.ogg  \n",
       "4      XC130154.ogg  \n",
       "...             ...  \n",
       "13911  XC442569.ogg  \n",
       "13912  XC442569.ogg  \n",
       "13913  XC442569.ogg  \n",
       "13914  XC442569.ogg  \n",
       "13915  XC442569.ogg  \n",
       "\n",
       "[13916 rows x 1027 columns]"
      ],
      "text/html": "<div>\n<style scoped>\n    .dataframe tbody tr th:only-of-type {\n        vertical-align: middle;\n    }\n\n    .dataframe tbody tr th {\n        vertical-align: top;\n    }\n\n    .dataframe thead th {\n        text-align: right;\n    }\n</style>\n<table border=\"1\" class=\"dataframe\">\n  <thead>\n    <tr style=\"text-align: right;\">\n      <th></th>\n      <th>bin_0</th>\n      <th>bin_1</th>\n      <th>bin_2</th>\n      <th>bin_3</th>\n      <th>bin_4</th>\n      <th>bin_5</th>\n      <th>bin_6</th>\n      <th>bin_7</th>\n      <th>bin_8</th>\n      <th>bin_9</th>\n      <th>...</th>\n      <th>bin_1017</th>\n      <th>bin_1018</th>\n      <th>bin_1019</th>\n      <th>bin_1020</th>\n      <th>bin_1021</th>\n      <th>bin_1022</th>\n      <th>bin_1023</th>\n      <th>partition</th>\n      <th>bird</th>\n      <th>filename</th>\n    </tr>\n  </thead>\n  <tbody>\n    <tr>\n      <th>0</th>\n      <td>0.109109</td>\n      <td>0.104525</td>\n      <td>0.090810</td>\n      <td>0.067982</td>\n      <td>0.043354</td>\n      <td>0.036528</td>\n      <td>0.059847</td>\n      <td>0.083071</td>\n      <td>0.090390</td>\n      <td>0.073011</td>\n      <td>...</td>\n      <td>0.010870</td>\n      <td>0.012636</td>\n      <td>0.005364</td>\n      <td>0.003192</td>\n      <td>0.001908</td>\n      <td>0.001179</td>\n      <td>0.000577</td>\n      <td>0_2047</td>\n      <td>grnjay</td>\n      <td>XC130154.ogg</td>\n    </tr>\n    <tr>\n      <th>1</th>\n      <td>0.032139</td>\n      <td>0.120178</td>\n      <td>0.163079</td>\n      <td>0.065829</td>\n      <td>0.286840</td>\n      <td>0.099731</td>\n      <td>0.070909</td>\n      <td>0.057269</td>\n      <td>0.104555</td>\n      <td>0.059639</td>\n      <td>...</td>\n      <td>0.001202</td>\n      <td>0.015968</td>\n      <td>0.019710</td>\n      <td>0.019694</td>\n      <td>0.013142</td>\n      <td>0.011388</td>\n      <td>0.021091</td>\n      <td>2048_4095</td>\n      <td>grnjay</td>\n      <td>XC130154.ogg</td>\n    </tr>\n    <tr>\n      <th>2</th>\n      <td>0.011692</td>\n      <td>0.031680</td>\n      <td>0.058241</td>\n      <td>0.010519</td>\n      <td>0.318981</td>\n      <td>0.031242</td>\n      <td>0.081802</td>\n      <td>0.128852</td>\n      <td>0.053376</td>\n      <td>0.064341</td>\n      <td>...</td>\n      <td>0.018336</td>\n      <td>0.020024</td>\n      <td>0.008126</td>\n      <td>0.026105</td>\n      <td>0.024679</td>\n      <td>0.044281</td>\n      <td>0.008388</td>\n      <td>4096_6143</td>\n      <td>grnjay</td>\n      <td>XC130154.ogg</td>\n    </tr>\n    <tr>\n      <th>3</th>\n      <td>0.084990</td>\n      <td>0.124008</td>\n      <td>0.148006</td>\n      <td>0.070163</td>\n      <td>0.167342</td>\n      <td>0.048375</td>\n      <td>0.079276</td>\n      <td>0.091263</td>\n      <td>0.054477</td>\n      <td>0.084815</td>\n      <td>...</td>\n      <td>0.002002</td>\n      <td>0.005793</td>\n      <td>0.002173</td>\n      <td>0.010228</td>\n      <td>0.017924</td>\n      <td>0.024366</td>\n      <td>0.026924</td>\n      <td>6144_8191</td>\n      <td>grnjay</td>\n      <td>XC130154.ogg</td>\n    </tr>\n    <tr>\n      <th>4</th>\n      <td>0.031638</td>\n      <td>0.060009</td>\n      <td>0.198577</td>\n      <td>0.089389</td>\n      <td>0.312165</td>\n      <td>0.061294</td>\n      <td>0.062317</td>\n      <td>0.020651</td>\n      <td>0.124128</td>\n      <td>0.061435</td>\n      <td>...</td>\n      <td>0.022278</td>\n      <td>0.039680</td>\n      <td>0.008317</td>\n      <td>0.009546</td>\n      <td>0.022766</td>\n      <td>0.010771</td>\n      <td>0.006605</td>\n      <td>8192_10239</td>\n      <td>grnjay</td>\n      <td>XC130154.ogg</td>\n    </tr>\n    <tr>\n      <th>...</th>\n      <td>...</td>\n      <td>...</td>\n      <td>...</td>\n      <td>...</td>\n      <td>...</td>\n      <td>...</td>\n      <td>...</td>\n      <td>...</td>\n      <td>...</td>\n      <td>...</td>\n      <td>...</td>\n      <td>...</td>\n      <td>...</td>\n      <td>...</td>\n      <td>...</td>\n      <td>...</td>\n      <td>...</td>\n      <td>...</td>\n      <td>...</td>\n      <td>...</td>\n      <td>...</td>\n    </tr>\n    <tr>\n      <th>13911</th>\n      <td>0.009594</td>\n      <td>0.009572</td>\n      <td>0.009554</td>\n      <td>0.009555</td>\n      <td>0.009493</td>\n      <td>0.009414</td>\n      <td>0.009550</td>\n      <td>0.009250</td>\n      <td>0.008539</td>\n      <td>0.008980</td>\n      <td>...</td>\n      <td>0.001476</td>\n      <td>0.000754</td>\n      <td>0.001108</td>\n      <td>0.001678</td>\n      <td>0.003120</td>\n      <td>0.001137</td>\n      <td>0.001968</td>\n      <td>1042432_1044479</td>\n      <td>grnjay</td>\n      <td>XC442569.ogg</td>\n    </tr>\n    <tr>\n      <th>13912</th>\n      <td>0.008446</td>\n      <td>0.008454</td>\n      <td>0.008464</td>\n      <td>0.008479</td>\n      <td>0.008514</td>\n      <td>0.008465</td>\n      <td>0.009185</td>\n      <td>0.010342</td>\n      <td>0.009518</td>\n      <td>0.008650</td>\n      <td>...</td>\n      <td>0.002326</td>\n      <td>0.000963</td>\n      <td>0.001815</td>\n      <td>0.003255</td>\n      <td>0.000207</td>\n      <td>0.000745</td>\n      <td>0.002223</td>\n      <td>1044480_1046527</td>\n      <td>grnjay</td>\n      <td>XC442569.ogg</td>\n    </tr>\n    <tr>\n      <th>13913</th>\n      <td>0.000873</td>\n      <td>0.000869</td>\n      <td>0.000866</td>\n      <td>0.000870</td>\n      <td>0.000867</td>\n      <td>0.000839</td>\n      <td>0.000741</td>\n      <td>0.001582</td>\n      <td>0.002086</td>\n      <td>0.001198</td>\n      <td>...</td>\n      <td>0.001241</td>\n      <td>0.001416</td>\n      <td>0.000398</td>\n      <td>0.001793</td>\n      <td>0.002299</td>\n      <td>0.001175</td>\n      <td>0.002281</td>\n      <td>1046528_1048575</td>\n      <td>grnjay</td>\n      <td>XC442569.ogg</td>\n    </tr>\n    <tr>\n      <th>13914</th>\n      <td>0.001317</td>\n      <td>0.001320</td>\n      <td>0.001327</td>\n      <td>0.001332</td>\n      <td>0.001341</td>\n      <td>0.001399</td>\n      <td>0.001379</td>\n      <td>0.002095</td>\n      <td>0.000515</td>\n      <td>0.002210</td>\n      <td>...</td>\n      <td>0.001462</td>\n      <td>0.002288</td>\n      <td>0.001505</td>\n      <td>0.001784</td>\n      <td>0.001004</td>\n      <td>0.001296</td>\n      <td>0.002625</td>\n      <td>1048576_1050623</td>\n      <td>grnjay</td>\n      <td>XC442569.ogg</td>\n    </tr>\n    <tr>\n      <th>13915</th>\n      <td>0.000388</td>\n      <td>0.000387</td>\n      <td>0.000389</td>\n      <td>0.000398</td>\n      <td>0.000409</td>\n      <td>0.000412</td>\n      <td>0.000393</td>\n      <td>0.000323</td>\n      <td>0.000292</td>\n      <td>0.000337</td>\n      <td>...</td>\n      <td>0.000953</td>\n      <td>0.000413</td>\n      <td>0.002407</td>\n      <td>0.001173</td>\n      <td>0.001150</td>\n      <td>0.001168</td>\n      <td>0.000909</td>\n      <td>1050624_1052671</td>\n      <td>grnjay</td>\n      <td>XC442569.ogg</td>\n    </tr>\n  </tbody>\n</table>\n<p>13916 rows × 1027 columns</p>\n</div>"
     },
     "metadata": {},
     "execution_count": 11
    }
   ],
   "source": [
    "df"
   ]
  },
  {
   "cell_type": "code",
   "execution_count": 21,
   "metadata": {},
   "outputs": [
    {
     "output_type": "execute_result",
     "data": {
      "text/plain": [
       "'train_short_audio/grnjay/XC130154.ogg'"
      ]
     },
     "metadata": {},
     "execution_count": 21
    }
   ],
   "source": [
    "a"
   ]
  }
 ]
}